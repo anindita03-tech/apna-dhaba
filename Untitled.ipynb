{
 "cells": [
  {
   "cell_type": "markdown",
   "id": "053b762a-22fe-4ba4-b517-a272b2e8cd09",
   "metadata": {},
   "source": [
    "# Apna Dhaba - Restaurant Billing and Feedback System\n"
   ]
  },
  {
   "cell_type": "code",
   "execution_count": 1,
   "id": "06c0c33b-2a5d-482c-817a-d425f6b7033f",
   "metadata": {},
   "outputs": [],
   "source": [
    "import time"
   ]
  },
  {
   "cell_type": "code",
   "execution_count": 7,
   "id": "36d91cc9-1f82-40c9-a921-a52498b79b17",
   "metadata": {},
   "outputs": [
    {
     "name": "stdout",
     "output_type": "stream",
     "text": [
      "=============================================\n",
      "          Wellcome To Apna Dhaba!\n",
      "=============================================\n",
      "\n",
      "Today's Menu:\n",
      "---------------------------------------------\n",
      "Roti                           ₹10\n",
      "Panner butter masala           ₹150\n",
      "dal tadka                      ₹70\n",
      "Rice                           ₹50\n",
      "Vag Biriyani                   ₹100\n",
      "Chole Bhature                  ₹80\n",
      "Masala Dosa                    ₹90\n",
      "Veg Manchurian                 ₹110\n",
      "Chicken Curry                  ₹150\n",
      "Egg Curry                      ₹100\n",
      "Mutton Rogan Josh              ₹220\n",
      "Fish Fry                       ₹160\n",
      "Soft Drink                     ₹30\n",
      "Lassi                          ₹40\n",
      "Coffee                         ₹25\n",
      "Mineral Water                  ₹20\n",
      "---------------------------------------------\n"
     ]
    },
    {
     "name": "stdin",
     "output_type": "stream",
     "text": [
      "\n",
      "Enter item name(or 'done' to finish): Fish Fry\n",
      "Enter Quantity For Fish Fry 2\n",
      "\n",
      "Enter item name(or 'done' to finish): DONE\n"
     ]
    },
    {
     "name": "stdout",
     "output_type": "stream",
     "text": [
      "\n",
      "Generating Bill...\n",
      "========================================\n",
      "          Apnaa Dhaba\n",
      "========================================\n",
      "Fish Fry             x2    ₹320\n",
      "----------------------------------------\n",
      "subtotal                       ₹320.00\n",
      "gst                            ₹16.00\n",
      "grand_total                    ₹336.00\n",
      "----------------------------------------\n",
      "/nPress enter after completing payment...\n",
      "\n",
      "We value your feedback!\n"
     ]
    },
    {
     "name": "stdin",
     "output_type": "stream",
     "text": [
      "rate our service (1 to 5): 5\n"
     ]
    },
    {
     "name": "stdout",
     "output_type": "stream",
     "text": [
      "\n",
      "Thank you for dining with us at Apna Dhaba!\n",
      "Your feedback helps us improve\n",
      "visit again soon!😊\n",
      "---------------------------------------------\n"
     ]
    }
   ],
   "source": [
    "##### Menu items with prices\n",
    "menu={\n",
    "       #veg\n",
    "    \"Roti\":10,\n",
    "    \"Panner butter masala\":150,\n",
    "    \"dal tadka\":70,\n",
    "    \"Rice\":50,\n",
    "    \"Vag Biriyani\":100,\n",
    "    \"Chole Bhature\":80,\n",
    "    \"Masala Dosa\":90,\n",
    "    \"Veg Manchurian\":110,\n",
    "\n",
    "       #non_veg\n",
    "    \"Chicken Curry\": 150,\n",
    "    \"Egg Curry\": 100,\n",
    "    \"Mutton Rogan Josh\": 220,\n",
    "    \"Fish Fry\": 160,\n",
    "\n",
    "    \n",
    "      # Beverages\n",
    "    \"Soft Drink\": 30,\n",
    "    \"Lassi\": 40,\n",
    "    \"Coffee\": 25,\n",
    "    \"Mineral Water\": 20\n",
    "}\n",
    "\n",
    "GST_RATE = 0.05  # 5  % gst\n",
    "\n",
    "# Welcome screen\n",
    "print(\"=\"*45)\n",
    "print(\"          Wellcome To Apna Dhaba!\")\n",
    "print(\"=\"*45)\n",
    "\n",
    "\n",
    "# Display menu\n",
    "print(\"\\nToday's Menu:\")\n",
    "print(\"-\"*45)\n",
    "for item,price in menu.items():\n",
    "    print(f\"{item:30} \\u20B9{price}\")\n",
    "print(\"-\"*45)\n",
    "\n",
    "# Take order\n",
    "order = {}\n",
    "while True:\n",
    "    item = input(\"\\nEnter item name(or 'done' to finish):\").title()\n",
    "    if item == \"Done\":\n",
    "        break\n",
    "    elif item in menu:\n",
    "        try:\n",
    "            qty=int(input(f\"Enter Quantity For {item}\"))\n",
    "            if qty > 0:\n",
    "                  order[item]=order.get(item,0)+qty\n",
    "            else:\n",
    "                 print(f\"Quantity must be greater then 0.\")\n",
    "        except ValueError:\n",
    "            print(f\"please Enter a valid number.\")\n",
    "    else:\n",
    "            print(f\"Item not found. Please select from the menu.\")\n",
    "\n",
    " # Calculate bill\n",
    "print(\"\\nGenerating Bill...\")\n",
    "time.sleep(1)\n",
    "print(\"=\"*40)\n",
    "print(\"          Apnaa Dhaba\")\n",
    "print(\"=\"*40)\n",
    "\n",
    "subtotal = 0\n",
    "for item,qty in order.items():\n",
    "    price = menu[item]\n",
    "    total = price * qty\n",
    "    subtotal += total\n",
    "    print(f\"{item:20} x{qty:<3}  \\u20B9{total}\")\n",
    "    \n",
    "gst = subtotal * GST_RATE\n",
    "grand_total = subtotal + gst\n",
    "\n",
    "print(\"-\"*40)\n",
    "print(f\"{'subtotal':30} \\u20B9{subtotal:.2f}\")\n",
    "print(f\"{'gst':30} \\u20B9{gst:.2f}\")\n",
    "print(f\"{'grand_total':30} \\u20B9{grand_total:.2f}\")\n",
    "print(\"-\"*40)   \n",
    "\n",
    "#payment\n",
    "print(\"/nPress enter after completing payment...\")\n",
    "\n",
    "# Feedback section\n",
    "print(\"\\nWe value your feedback!\")\n",
    "review=(f\"please write a short review about the food :\")\n",
    "while True:\n",
    "    try:\n",
    "        rating = int(input(f\"rate our service (1 to 5):\"))\n",
    "        if 1<=rating<=5:\n",
    "            break\n",
    "        else:\n",
    "            print(f\"please give a rating between 1 to 5.\")\n",
    "    except ValueError:\n",
    "        print(f\"please enter a valid number\")\n",
    "\n",
    "\n",
    "#Thank_you message\n",
    "print(f\"\\nThank you for dining with us at Apna Dhaba!\")\n",
    "print(f\"Your feedback helps us improve\")\n",
    "print(f\"visit again soon!\\U0001F60A\")\n",
    "print(\"-\"*45)\n",
    "\n",
    "\n",
    "# (Optional) Store feedback in a file\n",
    "# with open(\"feedback.txt\", \"a\") as f:\n",
    "#     f.write(f\"Review: {review}\\nRating: {rating}/5\\n{'-'*45}\\n\")\n",
    "\n",
    "            \n"
   ]
  },
  {
   "cell_type": "code",
   "execution_count": null,
   "id": "8216a37a-ab41-4927-9aee-2270056954fc",
   "metadata": {},
   "outputs": [],
   "source": []
  }
 ],
 "metadata": {
  "kernelspec": {
   "display_name": "Python 3 (ipykernel)",
   "language": "python",
   "name": "python3"
  },
  "language_info": {
   "codemirror_mode": {
    "name": "ipython",
    "version": 3
   },
   "file_extension": ".py",
   "mimetype": "text/x-python",
   "name": "python",
   "nbconvert_exporter": "python",
   "pygments_lexer": "ipython3",
   "version": "3.13.0"
  },
  "widgets": {
   "application/vnd.jupyter.widget-state+json": {
    "state": {},
    "version_major": 2,
    "version_minor": 0
   }
  }
 },
 "nbformat": 4,
 "nbformat_minor": 5
}
